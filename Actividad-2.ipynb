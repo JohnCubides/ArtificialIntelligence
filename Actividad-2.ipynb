{
  "nbformat": 4,
  "nbformat_minor": 0,
  "metadata": {
    "colab": {
      "provenance": [],
      "authorship_tag": "ABX9TyMfIb5SXTPq6YrXkwWwMZFY",
      "include_colab_link": true
    },
    "kernelspec": {
      "name": "python3",
      "display_name": "Python 3"
    },
    "language_info": {
      "name": "python"
    }
  },
  "cells": [
    {
      "cell_type": "markdown",
      "metadata": {
        "id": "view-in-github",
        "colab_type": "text"
      },
      "source": [
        "<a href=\"https://colab.research.google.com/github/JohnCubides/ArtificialIntelligence/blob/main/Actividad-2.ipynb\" target=\"_parent\"><img src=\"https://colab.research.google.com/assets/colab-badge.svg\" alt=\"Open In Colab\"/></a>"
      ]
    },
    {
      "cell_type": "code",
      "execution_count": null,
      "metadata": {
        "id": "bZhcxlvDi1f5"
      },
      "outputs": [],
      "source": [
        "#Importar librerias\n",
        "\n",
        "import numpy as np #metodos numericos\n",
        "import pandas as pd #Manejo datos\n",
        "import matplotlib.pyplot as plt #Gráfica\n",
        "import searborn as sns #Grágica\n",
        "\n",
        "#Get Data\n",
        "\n",
        "\n",
        "\n"
      ]
    }
  ]
}
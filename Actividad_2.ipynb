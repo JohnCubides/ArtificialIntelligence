{
  "nbformat": 4,
  "nbformat_minor": 0,
  "metadata": {
    "colab": {
      "provenance": [],
      "authorship_tag": "ABX9TyOWoQsQRTSs/LoiVCKZmIx9",
      "include_colab_link": true
    },
    "kernelspec": {
      "name": "python3",
      "display_name": "Python 3"
    },
    "language_info": {
      "name": "python"
    }
  },
  "cells": [
    {
      "cell_type": "markdown",
      "metadata": {
        "id": "view-in-github",
        "colab_type": "text"
      },
      "source": [
        "<a href=\"https://colab.research.google.com/github/JohnCubides/ArtificialIntelligence/blob/main/Actividad_2.ipynb\" target=\"_parent\"><img src=\"https://colab.research.google.com/assets/colab-badge.svg\" alt=\"Open In Colab\"/></a>"
      ]
    },
    {
      "cell_type": "code",
      "execution_count": 18,
      "metadata": {
        "id": "bZhcxlvDi1f5"
      },
      "outputs": [],
      "source": [
        "#Importar librerias\n",
        "\n",
        "import numpy as np #metodos numericos\n",
        "import pandas as pd #Manejo datos\n",
        "import matplotlib.pyplot as plt #Gráfica\n",
        "import seaborn as sns #Grágica"
      ]
    },
    {
      "cell_type": "code",
      "source": [
        "#Get Data\n",
        "df = pd.read_csv('https://raw.githubusercontent.com/julihdez36/Inteligencia_artificial/main/Forbes%202000%202022.csv',sep=';')"
      ],
      "metadata": {
        "id": "iettQuNG2wFT"
      },
      "execution_count": 20,
      "outputs": []
    },
    {
      "cell_type": "code",
      "source": [
        "# AED\n",
        "df.shape"
      ],
      "metadata": {
        "colab": {
          "base_uri": "https://localhost:8080/"
        },
        "id": "gw6uidVD3t5f",
        "outputId": "9a2dd28e-a2ab-496f-f6a8-797790f6fb11"
      },
      "execution_count": 21,
      "outputs": [
        {
          "output_type": "execute_result",
          "data": {
            "text/plain": [
              "(2000, 8)"
            ]
          },
          "metadata": {},
          "execution_count": 21
        }
      ]
    },
    {
      "cell_type": "code",
      "source": [
        "df.columns"
      ],
      "metadata": {
        "colab": {
          "base_uri": "https://localhost:8080/"
        },
        "id": "KNrc9KV64FxS",
        "outputId": "f1c4c559-8c27-41d3-f68f-535ecc27620c"
      },
      "execution_count": 22,
      "outputs": [
        {
          "output_type": "execute_result",
          "data": {
            "text/plain": [
              "Index(['Rank', 'Company Name', 'Country', 'Sales\\n($millions)',\n",
              "       'Profits\\n($millions)', 'Assets\\n($millions)',\n",
              "       'Market Value \\nAs of 05/12/22 ($m)', 'Unnamed: 7'],\n",
              "      dtype='object')"
            ]
          },
          "metadata": {},
          "execution_count": 22
        }
      ]
    },
    {
      "cell_type": "code",
      "source": [
        "#Define Tittle\n",
        "\n",
        "columnName = ['Rank', 'Name', 'Country', 'Sales', 'Profits', 'Assets', 'MarketValue', 'Unname']\n",
        "df.columns = columnName\n",
        "#df.sample(n=6)\n",
        "df.info()"
      ],
      "metadata": {
        "colab": {
          "base_uri": "https://localhost:8080/"
        },
        "id": "LVWDorZl4f5F",
        "outputId": "fc437b62-f654-47b1-fc7c-3d716372cb2a"
      },
      "execution_count": 23,
      "outputs": [
        {
          "output_type": "stream",
          "name": "stdout",
          "text": [
            "<class 'pandas.core.frame.DataFrame'>\n",
            "RangeIndex: 2000 entries, 0 to 1999\n",
            "Data columns (total 8 columns):\n",
            " #   Column       Non-Null Count  Dtype  \n",
            "---  ------       --------------  -----  \n",
            " 0   Rank         2000 non-null   int64  \n",
            " 1   Name         2000 non-null   object \n",
            " 2   Country      2000 non-null   object \n",
            " 3   Sales        2000 non-null   object \n",
            " 4   Profits      2000 non-null   object \n",
            " 5   Assets       2000 non-null   object \n",
            " 6   MarketValue  2000 non-null   object \n",
            " 7   Unname       0 non-null      float64\n",
            "dtypes: float64(1), int64(1), object(6)\n",
            "memory usage: 125.1+ KB\n"
          ]
        }
      ]
    },
    {
      "cell_type": "code",
      "source": [
        "#clear Data\n",
        "df = df.drop('Unname', axis=1)\n",
        "df.info()"
      ],
      "metadata": {
        "colab": {
          "base_uri": "https://localhost:8080/"
        },
        "id": "VwEDkxld6Kjz",
        "outputId": "1da7fb78-4258-4962-ac56-7cfccae6a4d5"
      },
      "execution_count": 24,
      "outputs": [
        {
          "output_type": "stream",
          "name": "stdout",
          "text": [
            "<class 'pandas.core.frame.DataFrame'>\n",
            "RangeIndex: 2000 entries, 0 to 1999\n",
            "Data columns (total 7 columns):\n",
            " #   Column       Non-Null Count  Dtype \n",
            "---  ------       --------------  ----- \n",
            " 0   Rank         2000 non-null   int64 \n",
            " 1   Name         2000 non-null   object\n",
            " 2   Country      2000 non-null   object\n",
            " 3   Sales        2000 non-null   object\n",
            " 4   Profits      2000 non-null   object\n",
            " 5   Assets       2000 non-null   object\n",
            " 6   MarketValue  2000 non-null   object\n",
            "dtypes: int64(1), object(6)\n",
            "memory usage: 109.5+ KB\n"
          ]
        }
      ]
    }
  ]
}